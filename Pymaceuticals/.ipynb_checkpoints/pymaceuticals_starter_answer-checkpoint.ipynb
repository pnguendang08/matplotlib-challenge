{
 "cells": [
  {
   "cell_type": "code",
   "execution_count": 1,
   "metadata": {},
   "outputs": [
    {
     "data": {
      "text/html": [
       "<div>\n",
       "<style scoped>\n",
       "    .dataframe tbody tr th:only-of-type {\n",
       "        vertical-align: middle;\n",
       "    }\n",
       "\n",
       "    .dataframe tbody tr th {\n",
       "        vertical-align: top;\n",
       "    }\n",
       "\n",
       "    .dataframe thead th {\n",
       "        text-align: right;\n",
       "    }\n",
       "</style>\n",
       "<table border=\"1\" class=\"dataframe\">\n",
       "  <thead>\n",
       "    <tr style=\"text-align: right;\">\n",
       "      <th></th>\n",
       "      <th>Mouse ID</th>\n",
       "      <th>Timepoint</th>\n",
       "      <th>Tumor Volume (mm3)</th>\n",
       "      <th>Metastatic Sites</th>\n",
       "    </tr>\n",
       "  </thead>\n",
       "  <tbody>\n",
       "    <tr>\n",
       "      <th>0</th>\n",
       "      <td>b128</td>\n",
       "      <td>0</td>\n",
       "      <td>45.0</td>\n",
       "      <td>0</td>\n",
       "    </tr>\n",
       "    <tr>\n",
       "      <th>1</th>\n",
       "      <td>f932</td>\n",
       "      <td>0</td>\n",
       "      <td>45.0</td>\n",
       "      <td>0</td>\n",
       "    </tr>\n",
       "    <tr>\n",
       "      <th>2</th>\n",
       "      <td>g107</td>\n",
       "      <td>0</td>\n",
       "      <td>45.0</td>\n",
       "      <td>0</td>\n",
       "    </tr>\n",
       "    <tr>\n",
       "      <th>3</th>\n",
       "      <td>a457</td>\n",
       "      <td>0</td>\n",
       "      <td>45.0</td>\n",
       "      <td>0</td>\n",
       "    </tr>\n",
       "    <tr>\n",
       "      <th>4</th>\n",
       "      <td>c819</td>\n",
       "      <td>0</td>\n",
       "      <td>45.0</td>\n",
       "      <td>0</td>\n",
       "    </tr>\n",
       "    <tr>\n",
       "      <th>5</th>\n",
       "      <td>h246</td>\n",
       "      <td>0</td>\n",
       "      <td>45.0</td>\n",
       "      <td>0</td>\n",
       "    </tr>\n",
       "    <tr>\n",
       "      <th>6</th>\n",
       "      <td>p189</td>\n",
       "      <td>0</td>\n",
       "      <td>45.0</td>\n",
       "      <td>0</td>\n",
       "    </tr>\n",
       "    <tr>\n",
       "      <th>7</th>\n",
       "      <td>n923</td>\n",
       "      <td>0</td>\n",
       "      <td>45.0</td>\n",
       "      <td>0</td>\n",
       "    </tr>\n",
       "    <tr>\n",
       "      <th>8</th>\n",
       "      <td>q119</td>\n",
       "      <td>0</td>\n",
       "      <td>45.0</td>\n",
       "      <td>0</td>\n",
       "    </tr>\n",
       "    <tr>\n",
       "      <th>9</th>\n",
       "      <td>f993</td>\n",
       "      <td>0</td>\n",
       "      <td>45.0</td>\n",
       "      <td>0</td>\n",
       "    </tr>\n",
       "  </tbody>\n",
       "</table>\n",
       "</div>"
      ],
      "text/plain": [
       "  Mouse ID  Timepoint  Tumor Volume (mm3)  Metastatic Sites\n",
       "0     b128          0                45.0                 0\n",
       "1     f932          0                45.0                 0\n",
       "2     g107          0                45.0                 0\n",
       "3     a457          0                45.0                 0\n",
       "4     c819          0                45.0                 0\n",
       "5     h246          0                45.0                 0\n",
       "6     p189          0                45.0                 0\n",
       "7     n923          0                45.0                 0\n",
       "8     q119          0                45.0                 0\n",
       "9     f993          0                45.0                 0"
      ]
     },
     "execution_count": 1,
     "metadata": {},
     "output_type": "execute_result"
    }
   ],
   "source": [
    "import pandas as pd\n",
    "\n",
    "import matplotlib.pyplot as plt\n",
    "import numpy as np\n",
    "%matplotlib inline\n",
    "# Hide warning messages in notebook\n",
    "import warnings\n",
    "warnings.filterwarnings('ignore')\n",
    "# Pymaceuticals/data/clinicaltrial_data.csv\n",
    "#Pymaceuticals/data/mouse_drug_data.csv\n",
    "#Pymaceuticals/myplotHw.ipynb\n",
    "clinical_df=pd.read_csv(\"data/clinicaltrial_data.csv\")\n",
    "drug_df = pd.read_csv(\"data/mouse_drug_data.csv\")\n",
    "clinical_df.head(10)"
   ]
  },
  {
   "cell_type": "code",
   "execution_count": 2,
   "metadata": {},
   "outputs": [
    {
     "data": {
      "text/html": [
       "<div>\n",
       "<style scoped>\n",
       "    .dataframe tbody tr th:only-of-type {\n",
       "        vertical-align: middle;\n",
       "    }\n",
       "\n",
       "    .dataframe tbody tr th {\n",
       "        vertical-align: top;\n",
       "    }\n",
       "\n",
       "    .dataframe thead th {\n",
       "        text-align: right;\n",
       "    }\n",
       "</style>\n",
       "<table border=\"1\" class=\"dataframe\">\n",
       "  <thead>\n",
       "    <tr style=\"text-align: right;\">\n",
       "      <th></th>\n",
       "      <th>Mouse ID</th>\n",
       "      <th>Drug</th>\n",
       "    </tr>\n",
       "  </thead>\n",
       "  <tbody>\n",
       "    <tr>\n",
       "      <th>0</th>\n",
       "      <td>f234</td>\n",
       "      <td>Stelasyn</td>\n",
       "    </tr>\n",
       "    <tr>\n",
       "      <th>1</th>\n",
       "      <td>x402</td>\n",
       "      <td>Stelasyn</td>\n",
       "    </tr>\n",
       "    <tr>\n",
       "      <th>2</th>\n",
       "      <td>a492</td>\n",
       "      <td>Stelasyn</td>\n",
       "    </tr>\n",
       "    <tr>\n",
       "      <th>3</th>\n",
       "      <td>w540</td>\n",
       "      <td>Stelasyn</td>\n",
       "    </tr>\n",
       "    <tr>\n",
       "      <th>4</th>\n",
       "      <td>v764</td>\n",
       "      <td>Stelasyn</td>\n",
       "    </tr>\n",
       "    <tr>\n",
       "      <th>5</th>\n",
       "      <td>o848</td>\n",
       "      <td>Stelasyn</td>\n",
       "    </tr>\n",
       "    <tr>\n",
       "      <th>6</th>\n",
       "      <td>z314</td>\n",
       "      <td>Stelasyn</td>\n",
       "    </tr>\n",
       "    <tr>\n",
       "      <th>7</th>\n",
       "      <td>g989</td>\n",
       "      <td>Stelasyn</td>\n",
       "    </tr>\n",
       "    <tr>\n",
       "      <th>8</th>\n",
       "      <td>m269</td>\n",
       "      <td>Stelasyn</td>\n",
       "    </tr>\n",
       "    <tr>\n",
       "      <th>9</th>\n",
       "      <td>a963</td>\n",
       "      <td>Stelasyn</td>\n",
       "    </tr>\n",
       "  </tbody>\n",
       "</table>\n",
       "</div>"
      ],
      "text/plain": [
       "  Mouse ID      Drug\n",
       "0     f234  Stelasyn\n",
       "1     x402  Stelasyn\n",
       "2     a492  Stelasyn\n",
       "3     w540  Stelasyn\n",
       "4     v764  Stelasyn\n",
       "5     o848  Stelasyn\n",
       "6     z314  Stelasyn\n",
       "7     g989  Stelasyn\n",
       "8     m269  Stelasyn\n",
       "9     a963  Stelasyn"
      ]
     },
     "execution_count": 2,
     "metadata": {},
     "output_type": "execute_result"
    }
   ],
   "source": [
    "\n",
    "drug_df.head(10)"
   ]
  },
  {
   "cell_type": "code",
   "execution_count": 3,
   "metadata": {},
   "outputs": [],
   "source": [
    "# Merge the 2 dataframes clinicaltrial_data & mouse_drug_data\n",
    "df = pd.merge(clinical_df, drug_df, on=\"Mouse ID\")"
   ]
  },
  {
   "cell_type": "code",
   "execution_count": 4,
   "metadata": {},
   "outputs": [
    {
     "data": {
      "text/html": [
       "<div>\n",
       "<style scoped>\n",
       "    .dataframe tbody tr th:only-of-type {\n",
       "        vertical-align: middle;\n",
       "    }\n",
       "\n",
       "    .dataframe tbody tr th {\n",
       "        vertical-align: top;\n",
       "    }\n",
       "\n",
       "    .dataframe thead th {\n",
       "        text-align: right;\n",
       "    }\n",
       "</style>\n",
       "<table border=\"1\" class=\"dataframe\">\n",
       "  <thead>\n",
       "    <tr style=\"text-align: right;\">\n",
       "      <th></th>\n",
       "      <th>Mouse ID</th>\n",
       "      <th>Timepoint</th>\n",
       "      <th>Tumor Volume (mm3)</th>\n",
       "      <th>Metastatic Sites</th>\n",
       "      <th>Drug</th>\n",
       "    </tr>\n",
       "  </thead>\n",
       "  <tbody>\n",
       "    <tr>\n",
       "      <th>0</th>\n",
       "      <td>b128</td>\n",
       "      <td>0</td>\n",
       "      <td>45.000000</td>\n",
       "      <td>0</td>\n",
       "      <td>Capomulin</td>\n",
       "    </tr>\n",
       "    <tr>\n",
       "      <th>1</th>\n",
       "      <td>b128</td>\n",
       "      <td>5</td>\n",
       "      <td>45.651331</td>\n",
       "      <td>0</td>\n",
       "      <td>Capomulin</td>\n",
       "    </tr>\n",
       "    <tr>\n",
       "      <th>2</th>\n",
       "      <td>b128</td>\n",
       "      <td>10</td>\n",
       "      <td>43.270852</td>\n",
       "      <td>0</td>\n",
       "      <td>Capomulin</td>\n",
       "    </tr>\n",
       "    <tr>\n",
       "      <th>3</th>\n",
       "      <td>b128</td>\n",
       "      <td>15</td>\n",
       "      <td>43.784893</td>\n",
       "      <td>0</td>\n",
       "      <td>Capomulin</td>\n",
       "    </tr>\n",
       "    <tr>\n",
       "      <th>4</th>\n",
       "      <td>b128</td>\n",
       "      <td>20</td>\n",
       "      <td>42.731552</td>\n",
       "      <td>0</td>\n",
       "      <td>Capomulin</td>\n",
       "    </tr>\n",
       "  </tbody>\n",
       "</table>\n",
       "</div>"
      ],
      "text/plain": [
       "  Mouse ID  Timepoint  Tumor Volume (mm3)  Metastatic Sites       Drug\n",
       "0     b128          0           45.000000                 0  Capomulin\n",
       "1     b128          5           45.651331                 0  Capomulin\n",
       "2     b128         10           43.270852                 0  Capomulin\n",
       "3     b128         15           43.784893                 0  Capomulin\n",
       "4     b128         20           42.731552                 0  Capomulin"
      ]
     },
     "execution_count": 4,
     "metadata": {},
     "output_type": "execute_result"
    }
   ],
   "source": [
    "df.head(5)"
   ]
  },
  {
   "cell_type": "code",
   "execution_count": null,
   "metadata": {},
   "outputs": [],
   "source": []
  },
  {
   "cell_type": "code",
   "execution_count": 5,
   "metadata": {},
   "outputs": [
    {
     "ename": "NameError",
     "evalue": "name 'groupbydrug_timepoint' is not defined",
     "output_type": "error",
     "traceback": [
      "\u001b[1;31m---------------------------------------------------------------------------\u001b[0m",
      "\u001b[1;31mNameError\u001b[0m                                 Traceback (most recent call last)",
      "\u001b[1;32m<ipython-input-5-ac436d1947be>\u001b[0m in \u001b[0;36m<module>\u001b[1;34m\u001b[0m\n\u001b[0;32m      2\u001b[0m \u001b[0mC\u001b[0m \u001b[1;33m=\u001b[0m \u001b[0mdf\u001b[0m\u001b[1;33m.\u001b[0m\u001b[0mgroupby\u001b[0m\u001b[1;33m(\u001b[0m\u001b[1;33m[\u001b[0m\u001b[1;34m\"Drug\"\u001b[0m\u001b[1;33m,\u001b[0m\u001b[1;34m\"Timepoint\"\u001b[0m\u001b[1;33m]\u001b[0m\u001b[1;33m)\u001b[0m\u001b[1;33m\u001b[0m\u001b[1;33m\u001b[0m\u001b[0m\n\u001b[0;32m      3\u001b[0m \u001b[1;31m# Create a variable to store the mean of the Tumor volume\u001b[0m\u001b[1;33m\u001b[0m\u001b[1;33m\u001b[0m\u001b[1;33m\u001b[0m\u001b[0m\n\u001b[1;32m----> 4\u001b[1;33m \u001b[0mF\u001b[0m \u001b[1;33m=\u001b[0m \u001b[0mgroupbydrug_timepoint\u001b[0m\u001b[1;33m[\u001b[0m\u001b[1;34m\"Tumor Volume (mm3)\"\u001b[0m\u001b[1;33m]\u001b[0m\u001b[1;33m.\u001b[0m\u001b[0mmean\u001b[0m\u001b[1;33m(\u001b[0m\u001b[1;33m)\u001b[0m\u001b[1;33m\u001b[0m\u001b[1;33m\u001b[0m\u001b[0m\n\u001b[0m\u001b[0;32m      5\u001b[0m \u001b[1;31m# Convert to DataFrame\u001b[0m\u001b[1;33m\u001b[0m\u001b[1;33m\u001b[0m\u001b[1;33m\u001b[0m\u001b[0m\n\u001b[0;32m      6\u001b[0m \u001b[0mdrugtimetumor\u001b[0m\u001b[1;33m=\u001b[0m\u001b[0mpd\u001b[0m\u001b[1;33m.\u001b[0m\u001b[0mDataFrame\u001b[0m\u001b[1;33m(\u001b[0m\u001b[1;33m{\u001b[0m\u001b[1;34m\"Mean of the tumor volume\"\u001b[0m\u001b[1;33m:\u001b[0m\u001b[0mF\u001b[0m\u001b[1;33m}\u001b[0m\u001b[1;33m)\u001b[0m\u001b[1;33m\u001b[0m\u001b[1;33m\u001b[0m\u001b[0m\n",
      "\u001b[1;31mNameError\u001b[0m: name 'groupbydrug_timepoint' is not defined"
     ]
    }
   ],
   "source": [
    "# Store the Mean Tumor Volume Data Grouped by Drug and Timepoint \n",
    "C = df.groupby([\"Drug\",\"Timepoint\"])\n",
    "# Create a variable to store the mean of the Tumor volume\n",
    "F = groupbydrug_timepoint[\"Tumor Volume (mm3)\"].mean()\n",
    "# Convert to DataFrame\n",
    "drugtimetumor=pd.DataFrame({\"Mean of the tumor volume\":F})\n",
    "\n",
    "# Preview DataFrame\n",
    "print(\"Impact of drug on tumor volume over time\")\n",
    "drugtimetumor.reset_index().head(100)\n"
   ]
  },
  {
   "cell_type": "code",
   "execution_count": null,
   "metadata": {},
   "outputs": [],
   "source": [
    "F.iloc[0]"
   ]
  },
  {
   "cell_type": "code",
   "execution_count": null,
   "metadata": {},
   "outputs": [],
   "source": [
    "F.iloc[-1]"
   ]
  },
  {
   "cell_type": "code",
   "execution_count": null,
   "metadata": {},
   "outputs": [],
   "source": [
    "F.iloc[-1] - F.iloc[0]"
   ]
  },
  {
   "cell_type": "code",
   "execution_count": null,
   "metadata": {},
   "outputs": [],
   "source": [
    "# Create a variable to store the standard error of  Tumor volume\n",
    "stdErrorOfTumorVol = groupbydrug_timepoint[\"Tumor Volume (mm3)\"].sem()\n",
    "# Convert to DataFrame\n",
    "drugtimetumorError = pd.DataFrame({\"Standard Error on Tumor Volume (mm3)\":stdErrorOfTumorVol})\n",
    "# Preview DataFrame\n",
    "print(\"Standard Error on Tumor volume\")\n",
    "drugtimetumorError.reset_index().head()\n"
   ]
  },
  {
   "cell_type": "code",
   "execution_count": null,
   "metadata": {},
   "outputs": [],
   "source": [
    "# Minor Data Munging to Re-Format the Data Frames\n",
    "pivtab = pd.pivot_table(drugtimetumor,values=\"Mean of the tumor volume\", index= \"Timepoint\", columns=\"Drug\")\n",
    "\n",
    "# Preview that Reformatting worked\n",
    "pivtab.head(10)"
   ]
  },
  {
   "cell_type": "code",
   "execution_count": null,
   "metadata": {},
   "outputs": [],
   "source": [
    "#  Generate the Plot (with Error Bars)\n",
    "mean_df=pivtab[[\"Capomulin\", \"Infubinol\", \"Ketapril\", \"Placebo\"]]\n",
    "mean_errors=pivtab.index\n",
    "# Plot Error Bars\n",
    "ax = mean_df.plot(figsize=(12,8),  legend=False)\n",
    "# Reset color cycle so that the marker match\n",
    "ax.set_prop_cycle(None)\n",
    "# plot the markers\n",
    "mean_df.plot(figsize=(12,8), style=['o', '^', 's', 'd'], ls= \"--\", lw= 3,markersize= 14,  ax = ax )\n",
    "plt.xlim(0,45)\n",
    "plt.ylim(35,70)\n",
    "plt.title(\"Tumor Response to Treatment\")\n",
    "plt.xlabel(\"Time (Days)\")\n",
    "plt.ylabel(\"Tumor Volume (mm3)\")\n",
    "ax.yaxis.grid()\n",
    "# Save the Figure\n",
    "plt.savefig(\"Images/tumorVol.png\")"
   ]
  },
  {
   "cell_type": "markdown",
   "metadata": {},
   "source": [
    "\n",
    "Metastatic Response to Treatment\n"
   ]
  },
  {
   "cell_type": "code",
   "execution_count": null,
   "metadata": {},
   "outputs": [],
   "source": [
    "\n",
    "# Store the Mean Met. Site Data Grouped by Drug and Timepoint\n",
    "E =groupbydrug_timepoint[\"Metastatic Sites\"].mean()\n",
    "\n",
    "# Convert to DataFrame\n",
    "drugtimetumorMet = pd.DataFrame({\"Mean of the Metastatic Sites\": E})\n",
    "\n",
    "# Preview DataFrame\n",
    "print(\"Metastatic Response to Treatment\")\n",
    "drugtimetumorMet.head()\n"
   ]
  },
  {
   "cell_type": "code",
   "execution_count": null,
   "metadata": {},
   "outputs": [],
   "source": [
    "# Store the Standard Error associated with Met. Sites Grouped by Drug and Timepoint \n",
    "stdErrorWithMetSitesSem =groupbydrug_timepoint[\"Metastatic Sites\"].sem()\n",
    "# Convert to DataFrame\n",
    "stdErrorWithMetSites_df= pd.DataFrame({\"Standards Error of the Metastatic Sites\":stdErrorWithMetSitesSem})\n",
    "# Preview DataFrame\n",
    "stdErrorWithMetSites_df.head()"
   ]
  },
  {
   "cell_type": "code",
   "execution_count": null,
   "metadata": {},
   "outputs": [],
   "source": [
    "# Minor Data Munging to Re-Format the Data Frames\n",
    "pivtab2 = pd.pivot_table(drugtimetumorMet,values= 'Mean of the Metastatic Sites', index= \"Timepoint\", columns=\"Drug\")\n",
    "\n",
    "# Preview that Reformatting worked\n",
    "pivtab2.head()"
   ]
  },
  {
   "cell_type": "code",
   "execution_count": null,
   "metadata": {},
   "outputs": [],
   "source": [
    "\n",
    "# Generate the Plot (with Error Bars)\n",
    "mean_df2=pivtab2[[\"Capomulin\", \"Infubinol\", \"Ketapril\", \"Placebo\"]]\n",
    "mean_errors2=pivtab2.index\n",
    "\n",
    "# Plot Error Bars\n",
    "ax2 = mean_df2.plot(figsize=(12,8),  legend=False)\n",
    "# Reset color cycle so that the marker color match\n",
    "ax2.set_prop_cycle(None)\n",
    "# plot the markers\n",
    "mean_df2.plot(figsize=(12,8), style=['o', '^', 's', 'd'], ls = \"--\", lw=3,markersize= 14,  ax = ax2 )\n",
    "plt.xlim(0.5,45)\n",
    "plt.ylim(0,3.5)\n",
    "plt.title(\"Metastatic Spread During Treatment\")\n",
    "plt.xlabel(\"Treatement Duration (Days)\")\n",
    "plt.ylabel(\"Met. Sites\")\n",
    "ax2.yaxis.grid()\n",
    "\n",
    "#ax2.errorbar(ax2, yerr=mean_errors2 , fmt= '-0')\n",
    "#plt.grid(True)\n",
    "# Save the Figure\n",
    "plt.savefig(\"Images/tumorMetSites.png\")\n",
    "# Show the Figure"
   ]
  },
  {
   "cell_type": "markdown",
   "metadata": {},
   "source": [
    "SURVIVAL RATES"
   ]
  },
  {
   "cell_type": "code",
   "execution_count": null,
   "metadata": {},
   "outputs": [],
   "source": [
    "# Store the Count of Mice Grouped by Drug and Timepoint (W can pass any metric)\n",
    "CountOfmouse = groupbydrug_timepoint[\"Mouse ID\"].nunique()\n",
    "CountOfmouse\n",
    "# Convert to DataFrame\n",
    "mouseSurvival_df = pd.DataFrame({\"Mouse Count\":CountOfmouse})\n",
    "# Preview DataFramef\n",
    "mouseSurvival_df.reset_index().head()"
   ]
  },
  {
   "cell_type": "code",
   "execution_count": null,
   "metadata": {},
   "outputs": [],
   "source": [
    "# Minor Data Munging to Re-Format the Data Frames\n",
    "pivtab3 = pd.pivot_table(mouseSurvival_df,values= 'Mouse Count', index= \"Timepoint\", columns=\"Drug\")\n",
    "\n",
    "# Preview the Data Frame\n",
    "pivtab3.head()"
   ]
  },
  {
   "cell_type": "code",
   "execution_count": null,
   "metadata": {},
   "outputs": [],
   "source": [
    "# Percentage of Survival to use for the plot\n",
    "percentCountOfmouse= groupbydrug_timepoint[\"Mouse ID\"].nunique()/25*100\n",
    "# Convert to DataFrame\n",
    "PercentmouseSurvival_df = pd.DataFrame({\"Mouse Count\":percentCountOfmouse})\n",
    "\n",
    "# Minor Data Munging to Re-Format the Data Frames\n",
    "pivtab4 = pd.pivot_table(PercentmouseSurvival_df,values= 'Mouse Count', index= \"Timepoint\", columns=\"Drug\")\n",
    "# Generate the Plot (Accounting for percentages)\n",
    "\n",
    "# Save the Figure\n",
    "\n",
    "# Show the Figure\n",
    "#plt.show()\n",
    "pivtab4.head()"
   ]
  },
  {
   "cell_type": "code",
   "execution_count": null,
   "metadata": {},
   "outputs": [],
   "source": [
    "# Generate the Plot (Accounting for percentages)\n",
    "survivalRate_df=pivtab4[[\"Capomulin\", \"Infubinol\", \"Ketapril\", \"Placebo\"]]\n",
    "survivalRate_df.head()"
   ]
  },
  {
   "cell_type": "code",
   "execution_count": null,
   "metadata": {},
   "outputs": [],
   "source": [
    "# Generate the Plot (Accounting for percentages)\n",
    "survivalRate_df=pivtab4[[\"Capomulin\", \"Infubinol\", \"Ketapril\", \"Placebo\"]]\n",
    "ax3 = survivalRate_df.plot(figsize=(12,8),  legend=False)\n",
    "# Reset color cycle so that the marker color match\n",
    "ax3.set_prop_cycle(None)\n",
    "# plot the markers\n",
    "survivalRate_df.plot(figsize=(12,8), style=['o', '^', 's', 'd'], ls = \"--\", lw=3,markersize= 14,  ax = ax3 )\n",
    "plt.xlim(-2,45)\n",
    "plt.ylim(35,102)\n",
    "plt.title(\"Survival During Treatement\")\n",
    "plt.xlabel(\"Time (Days)\")\n",
    "plt.ylabel(\"Survival Rate (%)\")\n",
    "ax3.yaxis.grid()\n",
    "# Save the Figure\n",
    "plt.savefig(\"data/survivalduringtreatment.png\")"
   ]
  },
  {
   "cell_type": "markdown",
   "metadata": {},
   "source": [
    "SUMMARY BAR GRAPH"
   ]
  },
  {
   "cell_type": "code",
   "execution_count": null,
   "metadata": {},
   "outputs": [],
   "source": [
    "# Calculate the percent changes for each drug\n",
    "beginTumorVol = pivtab.iloc[0]\n",
    "EndingTumorVol =pivtab.iloc[-1]\n",
    "percentChangeVol =((EndingTumorVol-beginTumorVol)/beginTumorVol)*100\n",
    "percentChangeVol_df = pd.DataFrame({\"Percent Change\":percentChangeVol})\n",
    "# Display the data to confirm\n",
    "percentChangeVol_df"
   ]
  },
  {
   "cell_type": "code",
   "execution_count": null,
   "metadata": {},
   "outputs": [],
   "source": [
    "# Store all Relevant Percent Changes into a Tuple\n",
    "\n",
    "percentChangeVol_df.apply(tuple, axis=1)\n",
    "\n",
    "\n",
    "\n",
    "# Orient widths. Add labels, tick marks, etc. \n",
    "\n",
    "\n",
    "# Use functions to label the percentages of changes\n",
    "\n",
    "\n",
    "# Call functions to implement the function calls\n",
    "\n",
    "\n",
    "# Save the Figure\n",
    "\n",
    "\n",
    "# Show the Figure\n",
    "#fig.show()"
   ]
  },
  {
   "cell_type": "code",
   "execution_count": null,
   "metadata": {},
   "outputs": [],
   "source": [
    "# Splice the data between passing and failing drugs\n",
    "def colorPassingGreen(val):\n",
    "    color = 'green' if val <0 else 'blue'\n",
    "    return 'color: %s' % color\n",
    "print(\"Drugs treatment with passing result are green\")\n",
    "percentChangeVol_df.style.applymap(colorPassingGreen)"
   ]
  },
  {
   "cell_type": "code",
   "execution_count": null,
   "metadata": {},
   "outputs": [],
   "source": [
    "# Orient widths. Add labels, tick marks, etc.\n",
    "percentChange_tumorVol=[-19.4753, 46.1235, 57.0288, 51.298]\n",
    "drugs =[\"Capomulin\", \"Infubinol\",\"Ketapril\", \"Placebo\" ]\n",
    "x_axis = np.arange(len(percentChange_tumorVol))\n",
    "plt.bar(x_axis, percentChange_tumorVol, color =['green', 'red', 'red', 'red'], width = .98)\n",
    "tick_locations = [value for value in x_axis]\n",
    "plt.xticks(tick_locations,drugs )\n",
    "plt.xlabel(\"Drug\")\n",
    "plt.ylabel(\"% Tumor Volume Change\")\n",
    "plt.title(\"Tumor Change over 45 days Treatment\")\n",
    "plt.grid()\n",
    "# Save the Figure\n",
    "plt.savefig(\"Images/tumorchange.png\")\n",
    "         "
   ]
  },
  {
   "cell_type": "code",
   "execution_count": null,
   "metadata": {},
   "outputs": [],
   "source": []
  }
 ],
 "metadata": {
  "kernelspec": {
   "display_name": "Python 3",
   "language": "python",
   "name": "python3"
  },
  "language_info": {
   "codemirror_mode": {
    "name": "ipython",
    "version": 3
   },
   "file_extension": ".py",
   "mimetype": "text/x-python",
   "name": "python",
   "nbconvert_exporter": "python",
   "pygments_lexer": "ipython3",
   "version": "3.7.6"
  }
 },
 "nbformat": 4,
 "nbformat_minor": 2
}
